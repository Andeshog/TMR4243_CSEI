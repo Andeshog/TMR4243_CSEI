{
 "cells": [
  {
   "cell_type": "markdown",
   "metadata": {},
   "source": [
    "**Case Study - A** To run the Joystick Controller, run the command below:\n",
    "\n",
    "```bash\n",
    "ros2 launch template_guidance joystick.launch.py\n",
    "```"
   ]
  },
  {
   "cell_type": "code",
   "execution_count": null,
   "metadata": {
    "vscode": {
     "languageId": "shellscript"
    }
   },
   "outputs": [],
   "source": [
    "! ros2 launch template_guidance guidance.launch.py"
   ]
  },
  {
   "cell_type": "code",
   "execution_count": 1,
   "metadata": {
    "vscode": {
     "languageId": "shellscript"
    }
   },
   "outputs": [
    {
     "name": "stdout",
     "output_type": "stream",
     "text": [
      "[INFO] [launch]: All log files can be found below /home/cem/.ros/log/2024-02-26-14-25-47-132639-NTNU27923-15038\n",
      "[INFO] [launch]: Default logging verbosity is set to INFO\n",
      "[ERROR] [guidance_node.py-1]: exception occurred while executing process:\n",
      "Traceback (most recent call last):\n",
      "  File \"/opt/ros/humble/lib/python3.10/site-packages/launch/actions/execute_local.py\", line 546, in __execute_process\n",
      "    transport, self._subprocess_protocol = await async_execute_process(\n",
      "  File \"/opt/ros/humble/lib/python3.10/site-packages/osrf_pycommon/process_utils/async_execute_process_asyncio/impl.py\", line 139, in async_execute_process\n",
      "    transport, protocol = await _async_execute_process_nopty(\n",
      "  File \"/opt/ros/humble/lib/python3.10/site-packages/osrf_pycommon/process_utils/async_execute_process_asyncio/impl.py\", line 45, in _async_execute_process_nopty\n",
      "    transport, protocol = await loop.subprocess_exec(\n",
      "  File \"/usr/lib/python3.10/asyncio/base_events.py\", line 1681, in subprocess_exec\n",
      "    transport = await self._make_subprocess_transport(\n",
      "  File \"/usr/lib/python3.10/asyncio/unix_events.py\", line 207, in _make_subprocess_transport\n",
      "    transp = _UnixSubprocessTransport(self, protocol, args, shell,\n",
      "  File \"/usr/lib/python3.10/asyncio/base_subprocess.py\", line 36, in __init__\n",
      "    self._start(args=args, shell=shell, stdin=stdin, stdout=stdout,\n",
      "  File \"/usr/lib/python3.10/asyncio/unix_events.py\", line 799, in _start\n",
      "    self._proc = subprocess.Popen(\n",
      "  File \"/usr/lib/python3.10/subprocess.py\", line 971, in __init__\n",
      "    self._execute_child(args, executable, preexec_fn, close_fds,\n",
      "  File \"/usr/lib/python3.10/subprocess.py\", line 1751, in _execute_child\n",
      "    self._posix_spawn(args, executable, env, restore_signals,\n",
      "  File \"/usr/lib/python3.10/subprocess.py\", line 1696, in _posix_spawn\n",
      "    self.pid = os.posix_spawn(executable, args, env, **kwargs)\n",
      "OSError: [Errno 8] Exec format error: '/home/cem/mclab/ros_ws/install/template_guidance/lib/template_guidance/guidance_node.py'\n",
      "\n"
     ]
    }
   ],
   "source": [
    "! ros2 launch template_guidance guidance.launch.py task:=stationkeeping"
   ]
  }
 ],
 "metadata": {
  "kernelspec": {
   "display_name": "Python 3",
   "language": "python",
   "name": "python3"
  },
  "language_info": {
   "codemirror_mode": {
    "name": "ipython",
    "version": 3
   },
   "file_extension": ".py",
   "mimetype": "text/x-python",
   "name": "python",
   "nbconvert_exporter": "python",
   "pygments_lexer": "ipython3",
   "version": "3.10.12"
  }
 },
 "nbformat": 4,
 "nbformat_minor": 2
}
