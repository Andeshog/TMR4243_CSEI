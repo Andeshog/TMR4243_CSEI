{
 "cells": [
  {
   "cell_type": "markdown",
   "metadata": {},
   "source": [
    "## Run the simulation\n",
    "\n",
    "To run the simulation, run the command below:\n",
    "\n",
    "```bash\n",
    "ros2 launch tmr4243_utilities utilities.launch.xml\n",
    "```\n"
   ]
  },
  {
   "cell_type": "code",
   "execution_count": 1,
   "metadata": {},
   "outputs": [
    {
     "name": "stdout",
     "output_type": "stream",
     "text": [
      "[INFO] [launch]: All log files can be found below /home/andeshog/.ros/log/2024-02-26-16-44-12-125048-ashsus-23605\n",
      "[INFO] [launch]: Default logging verbosity is set to INFO\n",
      "[INFO] [rviz2-1]: process started with pid [23607]\n",
      "[INFO] [robot_state_publisher-2]: process started with pid [23609]\n",
      "[INFO] [cybership_enterprise1.py-3]: process started with pid [23611]\n",
      "[INFO] [utility_node.py-4]: process started with pid [23613]\n",
      "[robot_state_publisher-2] [INFO] [1708962252.472526493] [robot_state_publisher]: got segment base_link\n",
      "[robot_state_publisher-2] [INFO] [1708962252.472904060] [robot_state_publisher]: got segment bow_tunnel_thruster_link\n",
      "[robot_state_publisher-2] [INFO] [1708962252.472930311] [robot_state_publisher]: got segment imu_link\n",
      "[robot_state_publisher-2] [INFO] [1708962252.472941088] [robot_state_publisher]: got segment stern_port_thruster_link\n",
      "[robot_state_publisher-2] [INFO] [1708962252.472952397] [robot_state_publisher]: got segment stern_starboard_thruster_link\n",
      "[rviz2-1] /opt/ros/humble/lib/rviz2/rviz2: symbol lookup error: /snap/core20/current/lib/x86_64-linux-gnu/libpthread.so.0: undefined symbol: __libc_pthread_init, version GLIBC_PRIVATE\n",
      "[ERROR] [rviz2-1]: process has died [pid 23607, exit code 127, cmd '/opt/ros/humble/lib/rviz2/rviz2 -d /home/andeshog/sim_ws/install/cybership_viz/share/cybership_viz/config/cybership.rviz --ros-args -r __node:=rviz'].\n",
      "^C\n",
      "[WARNING] [launch]: user interrupted with ctrl-c (SIGINT)\n",
      "[robot_state_publisher-2] [INFO] [1708962412.959436237] [rclcpp]: signal_handler(signum=2)\n",
      "[utility_node.py-4] Traceback (most recent call last):\n",
      "[utility_node.py-4]   File \"/home/andeshog/sim_ws/install/tmr4243_utilities/lib/tmr4243_utilities/utility_node.py\", line 180, in <module>\n",
      "[utility_node.py-4]     main()\n",
      "[utility_node.py-4]   File \"/home/andeshog/sim_ws/install/tmr4243_utilities/lib/tmr4243_utilities/utility_node.py\", line 174, in main\n",
      "[utility_node.py-4]     rclpy.spin(node)\n",
      "[utility_node.py-4]   File \"/opt/ros/humble/local/lib/python3.10/dist-packages/rclpy/__init__.py\", line 222, in spin\n",
      "[utility_node.py-4]     executor.spin_once()\n",
      "[utility_node.py-4]   File \"/opt/ros/humble/local/lib/python3.10/dist-packages/rclpy/executors.py\", line 739, in spin_once\n",
      "[utility_node.py-4]     self._spin_once_impl(timeout_sec)\n",
      "[utility_node.py-4]   File \"/opt/ros/humble/local/lib/python3.10/dist-packages/rclpy/executors.py\", line 728, in _spin_once_impl\n",
      "[utility_node.py-4]     handler, entity, node = self.wait_for_ready_callbacks(timeout_sec=timeout_sec)\n",
      "[utility_node.py-4]   File \"/opt/ros/humble/local/lib/python3.10/dist-packages/rclpy/executors.py\", line 711, in wait_for_ready_callbacks\n",
      "[utility_node.py-4]     return next(self._cb_iter)\n",
      "[utility_node.py-4]   File \"/opt/ros/humble/local/lib/python3.10/dist-packages/rclpy/executors.py\", line 608, in _wait_for_ready_callbacks\n",
      "[utility_node.py-4]     wait_set.wait(timeout_nsec)\n",
      "[utility_node.py-4] KeyboardInterrupt\n",
      "[cybership_enterprise1.py-3] Traceback (most recent call last):\n",
      "[cybership_enterprise1.py-3]   File \"/home/andeshog/sim_ws/install/cybership_simulator/lib/cybership_simulator/cybership_enterprise1.py\", line 262, in <module>\n",
      "[cybership_enterprise1.py-3]     main()\n",
      "[cybership_enterprise1.py-3]   File \"/home/andeshog/sim_ws/install/cybership_simulator/lib/cybership_simulator/cybership_enterprise1.py\", line 257, in main\n",
      "[cybership_enterprise1.py-3]     rclpy.spin(simulator)\n",
      "[cybership_enterprise1.py-3]   File \"/opt/ros/humble/local/lib/python3.10/dist-packages/rclpy/__init__.py\", line 222, in spin\n",
      "[cybership_enterprise1.py-3]     executor.spin_once()\n",
      "[cybership_enterprise1.py-3]   File \"/opt/ros/humble/local/lib/python3.10/dist-packages/rclpy/executors.py\", line 739, in spin_once\n",
      "[cybership_enterprise1.py-3]     self._spin_once_impl(timeout_sec)\n",
      "[cybership_enterprise1.py-3]   File \"/opt/ros/humble/local/lib/python3.10/dist-packages/rclpy/executors.py\", line 728, in _spin_once_impl\n",
      "[cybership_enterprise1.py-3]     handler, entity, node = self.wait_for_ready_callbacks(timeout_sec=timeout_sec)\n",
      "[cybership_enterprise1.py-3]   File \"/opt/ros/humble/local/lib/python3.10/dist-packages/rclpy/executors.py\", line 711, in wait_for_ready_callbacks\n",
      "[cybership_enterprise1.py-3]     return next(self._cb_iter)\n",
      "[cybership_enterprise1.py-3]   File \"/opt/ros/humble/local/lib/python3.10/dist-packages/rclpy/executors.py\", line 608, in _wait_for_ready_callbacks\n",
      "[cybership_enterprise1.py-3]     wait_set.wait(timeout_nsec)\n",
      "[cybership_enterprise1.py-3] KeyboardInterrupt\n"
     ]
    }
   ],
   "source": [
    "! ros2 launch tmr4243_utilities utilities.launch.xml"
   ]
  }
 ],
 "metadata": {
  "kernelspec": {
   "display_name": "Python 3",
   "language": "python",
   "name": "python3"
  },
  "language_info": {
   "codemirror_mode": {
    "name": "ipython",
    "version": 3
   },
   "file_extension": ".py",
   "mimetype": "text/x-python",
   "name": "python",
   "nbconvert_exporter": "python",
   "pygments_lexer": "ipython3",
   "version": "3.10.12"
  }
 },
 "nbformat": 4,
 "nbformat_minor": 2
}
