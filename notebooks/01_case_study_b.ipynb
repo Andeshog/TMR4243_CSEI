{
 "cells": [
  {
   "cell_type": "markdown",
   "metadata": {},
   "source": [
    "**Case Study - B** To run the Observer \n",
    "\n",
    "```bash\n",
    "ros2 launch template_observer observer.launch.py\n",
    "```"
   ]
  },
  {
   "cell_type": "code",
   "execution_count": 1,
   "metadata": {
    "vscode": {
     "languageId": "shellscript"
    }
   },
   "outputs": [
    {
     "name": "stdout",
     "output_type": "stream",
     "text": [
      "[INFO] [launch]: All log files can be found below /home/cem/.ros/log/2024-02-26-15-22-41-025141-NTNU27923-24361\n",
      "[INFO] [launch]: Default logging verbosity is set to INFO\n",
      "[INFO] [observer_node.py-1]: process started with pid [24368]\n",
      "[observer_node.py-1] Traceback (most recent call last):\n",
      "[observer_node.py-1]   File \"/home/cem/mclab/ros_ws/install/template_observer/lib/template_observer/observer_node.py\", line 101, in <module>\n",
      "[observer_node.py-1]     main()\n",
      "[observer_node.py-1]   File \"/home/cem/mclab/ros_ws/install/template_observer/lib/template_observer/observer_node.py\", line 97, in main\n",
      "[observer_node.py-1]     rclpy.spin(node)\n",
      "[observer_node.py-1]   File \"/opt/ros/humble/local/lib/python3.10/dist-packages/rclpy/__init__.py\", line 222, in spin\n",
      "[observer_node.py-1]     executor.spin_once()\n",
      "[observer_node.py-1]   File \"/opt/ros/humble/local/lib/python3.10/dist-packages/rclpy/executors.py\", line 739, in spin_once\n",
      "[observer_node.py-1]     self._spin_once_impl(timeout_sec)\n",
      "[observer_node.py-1]   File \"/opt/ros/humble/local/lib/python3.10/dist-packages/rclpy/executors.py\", line 736, in _spin_once_impl\n",
      "[observer_node.py-1]     raise handler.exception()\n",
      "[observer_node.py-1]   File \"/opt/ros/humble/local/lib/python3.10/dist-packages/rclpy/task.py\", line 239, in __call__\n",
      "[observer_node.py-1]     self._handler.send(None)\n",
      "[observer_node.py-1]   File \"/opt/ros/humble/local/lib/python3.10/dist-packages/rclpy/executors.py\", line 437, in handler\n",
      "[observer_node.py-1]     await call_coroutine(entity, arg)\n",
      "[observer_node.py-1]   File \"/opt/ros/humble/local/lib/python3.10/dist-packages/rclpy/executors.py\", line 351, in _execute_timer\n",
      "[observer_node.py-1]     await await_or_execute(tmr.callback)\n",
      "[observer_node.py-1]   File \"/opt/ros/humble/local/lib/python3.10/dist-packages/rclpy/executors.py\", line 107, in await_or_execute\n",
      "[observer_node.py-1]     return callback(*args)\n",
      "[observer_node.py-1]   File \"/home/cem/mclab/ros_ws/install/template_observer/lib/template_observer/observer_node.py\", line 77, in observer_loop\n",
      "[observer_node.py-1]     obs.eta = eta_hat\n",
      "[observer_node.py-1]   File \"/home/cem/mclab/ros_ws/install/tmr4243_interfaces/local/lib/python3.10/dist-packages/tmr4243_interfaces/msg/_observer.py\", line 149, in eta\n",
      "[observer_node.py-1]     assert \\\n",
      "[observer_node.py-1] AssertionError: The 'eta' field must be a set or sequence and each value of type 'float' and each double in [-179769313486231570814527423731704356798070567525844996598917476803157260780028538760589558632766878171540458953514382464234321326889464182768467546703537516986049910576551282076245490090389328944075868508455133942304583236903222948165808559332123348274797826204144723168738177180919299881250404026184124858368.000000, 179769313486231570814527423731704356798070567525844996598917476803157260780028538760589558632766878171540458953514382464234321326889464182768467546703537516986049910576551282076245490090389328944075868508455133942304583236903222948165808559332123348274797826204144723168738177180919299881250404026184124858368.000000]\n",
      "[ERROR] [observer_node.py-1]: process has died [pid 24368, exit code 1, cmd '/home/cem/mclab/ros_ws/install/template_observer/lib/template_observer/observer_node.py --ros-args -r __node:=observer --params-file /home/cem/mclab/ros_ws/install/template_observer/share/template_observer/param/config.yaml'].\n"
     ]
    }
   ],
   "source": [
    "! ros2 launch template_observer observer.launch.py"
   ]
  }
 ],
 "metadata": {
  "kernelspec": {
   "display_name": "Python 3",
   "language": "python",
   "name": "python3"
  },
  "language_info": {
   "codemirror_mode": {
    "name": "ipython",
    "version": 3
   },
   "file_extension": ".py",
   "mimetype": "text/x-python",
   "name": "python",
   "nbconvert_exporter": "python",
   "pygments_lexer": "ipython3",
   "version": "3.10.12"
  }
 },
 "nbformat": 4,
 "nbformat_minor": 2
}
