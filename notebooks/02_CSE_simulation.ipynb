{
 "cells": [
  {
   "attachments": {},
   "cell_type": "markdown",
   "metadata": {},
   "source": [
    "# CSEI simulator\n",
    "\n",
    "## Quick Start Guide\n",
    "\n",
    "To run the simulator enter the following command\n",
    "\n",
    "```bash\n",
    "roslaunch cse_simulator simulation.launch\n",
    "```\n",
    "\n",
    "To run the teleop node enter the following command\n",
    "\n",
    "```bash\n",
    "roslaunch cse_teleop teleop.launch\n",
    "```"
   ]
  }
 ],
 "metadata": {
  "language_info": {
   "name": "python"
  },
  "orig_nbformat": 4
 },
 "nbformat": 4,
 "nbformat_minor": 2
}
