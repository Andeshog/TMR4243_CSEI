{
 "cells": [
  {
   "cell_type": "markdown",
   "metadata": {},
   "source": [
    "**Case Study - A** To run the Joystick Controller, run the command below:\n",
    "\n",
    "```bash\n",
    "ros2 launch template_joystick_control joystick.launch.py\n",
    "```"
   ]
  },
  {
   "cell_type": "markdown",
   "metadata": {},
   "source": [
    "To run the simple controller, run the command below:\n",
    "\n",
    "```bash\n",
    "ros2 launch template_joystick_control joystick.launch.py\n",
    "```"
   ]
  },
  {
   "cell_type": "code",
   "execution_count": 6,
   "metadata": {
    "vscode": {
     "languageId": "shellscript"
    }
   },
   "outputs": [
    {
     "name": "stdout",
     "output_type": "stream",
     "text": [
      "[INFO] [launch]: All log files can be found below /home/andeshog/.ros/log/2024-02-26-16-42-37-650396-ashsus-23284\n",
      "[INFO] [launch]: Default logging verbosity is set to INFO\n",
      "[INFO] [joystick_control_node.py-1]: process started with pid [23285]\n",
      "[INFO] [joy_node-2]: process started with pid [23287]\n",
      "[joy_node-2] [INFO] [1708962157.961295597] [joy_node]: Opened joystick: Wireless Controller.  deadzone: 0.050000\n",
      "[joystick_control_node.py-1] Traceback (most recent call last):\n",
      "[joystick_control_node.py-1]   File \"/home/andeshog/sim_ws/install/template_joystick_control/lib/template_joystick_control/joystick_control_node.py\", line 137, in <module>\n",
      "[joystick_control_node.py-1]     main()\n",
      "[joystick_control_node.py-1]   File \"/home/andeshog/sim_ws/install/template_joystick_control/lib/template_joystick_control/joystick_control_node.py\", line 131, in main\n",
      "[joystick_control_node.py-1]     rclpy.spin(JoystickForce())\n",
      "[joystick_control_node.py-1]   File \"/opt/ros/humble/local/lib/python3.10/dist-packages/rclpy/__init__.py\", line 222, in spin\n",
      "[joystick_control_node.py-1]     executor.spin_once()\n",
      "[joystick_control_node.py-1]   File \"/opt/ros/humble/local/lib/python3.10/dist-packages/rclpy/executors.py\", line 739, in spin_once\n",
      "[joystick_control_node.py-1]     self._spin_once_impl(timeout_sec)\n",
      "[joystick_control_node.py-1]   File \"/opt/ros/humble/local/lib/python3.10/dist-packages/rclpy/executors.py\", line 736, in _spin_once_impl\n",
      "[joystick_control_node.py-1]     raise handler.exception()\n",
      "[joystick_control_node.py-1]   File \"/opt/ros/humble/local/lib/python3.10/dist-packages/rclpy/task.py\", line 239, in __call__\n",
      "[joystick_control_node.py-1]     self._handler.send(None)\n",
      "[joystick_control_node.py-1]   File \"/opt/ros/humble/local/lib/python3.10/dist-packages/rclpy/executors.py\", line 437, in handler\n",
      "[joystick_control_node.py-1]     await call_coroutine(entity, arg)\n",
      "[joystick_control_node.py-1]   File \"/opt/ros/humble/local/lib/python3.10/dist-packages/rclpy/executors.py\", line 362, in _execute_subscription\n",
      "[joystick_control_node.py-1]     await await_or_execute(sub.callback, msg)\n",
      "[joystick_control_node.py-1]   File \"/opt/ros/humble/local/lib/python3.10/dist-packages/rclpy/executors.py\", line 107, in await_or_execute\n",
      "[joystick_control_node.py-1]     return callback(*args)\n",
      "[joystick_control_node.py-1]   File \"/home/andeshog/sim_ws/install/template_joystick_control/lib/template_joystick_control/joystick_control_node.py\", line 93, in joy_callback\n",
      "[joystick_control_node.py-1]     result = joystick_simple(msg)\n",
      "[joystick_control_node.py-1]   File \"/home/andeshog/sim_ws/install/template_joystick_control/local/lib/python3.10/dist-packages/template_joystick_control/joystick_simple.py\", line 16, in joystick_simple\n",
      "[joystick_control_node.py-1]     joystick.axes[LEFT_STICK_HORIZONTAL], joystick.axes[LEFT_STICK_LATHERAL]\n",
      "[joystick_control_node.py-1] NameError: name 'LEFT_STICK_LATHERAL' is not defined. Did you mean: 'LEFT_STICK_VERTICAL'?\n",
      "[ERROR] [joystick_control_node.py-1]: process has died [pid 23285, exit code 1, cmd '/home/andeshog/sim_ws/install/template_joystick_control/lib/template_joystick_control/joystick_control_node.py --ros-args -r __node:=joystick_control --params-file /tmp/launch_params_3wfwfwzf'].\n",
      "^C\n",
      "[WARNING] [launch]: user interrupted with ctrl-c (SIGINT)\n",
      "[joy_node-2] [INFO] [1708962176.279418520] [rclcpp]: signal_handler(signum=2)\n",
      "[INFO] [joy_node-2]: process has finished cleanly [pid 23287]\n"
     ]
    }
   ],
   "source": [
    "! ros2 launch template_joystick_control joystick.launch.py task:=simple"
   ]
  },
  {
   "cell_type": "markdown",
   "metadata": {},
   "source": [
    "To run the body relative controller, run the command below:\n",
    "\n",
    "```bash\n",
    "ros2 launch template_joystick_control joystick.launch.py task:=body\n",
    "```"
   ]
  },
  {
   "cell_type": "code",
   "execution_count": 9,
   "metadata": {
    "vscode": {
     "languageId": "shellscript"
    }
   },
   "outputs": [
    {
     "name": "stdout",
     "output_type": "stream",
     "text": [
      "[INFO] [launch]: All log files can be found below /home/andeshog/.ros/log/2024-02-26-16-45-42-795305-ashsus-24838\n",
      "[INFO] [launch]: Default logging verbosity is set to INFO\n",
      "[INFO] [joystick_control_node.py-1]: process started with pid [24840]\n",
      "[INFO] [joy_node-2]: process started with pid [24842]\n",
      "[joy_node-2] [INFO] [1708962343.149490567] [joy_node]: Opened joystick: Wireless Controller.  deadzone: 0.050000\n",
      "[joystick_control_node.py-1] [INFO] [1708962343.891154712] [joystick_control]: Parameter task: body\n",
      "[joystick_control_node.py-1] [INFO] [1708962344.912283167] [joystick_control]: Parameter task: body\n",
      "[joystick_control_node.py-1] [INFO] [1708962345.921085377] [joystick_control]: Parameter task: body\n",
      "[joystick_control_node.py-1] [INFO] [1708962347.010478985] [joystick_control]: Parameter task: body\n",
      "[joystick_control_node.py-1] [INFO] [1708962348.110102936] [joystick_control]: Parameter task: body\n",
      "[joystick_control_node.py-1] [INFO] [1708962349.209934881] [joystick_control]: Parameter task: body\n",
      "[joystick_control_node.py-1] [INFO] [1708962350.213076538] [joystick_control]: Parameter task: body\n",
      "[joystick_control_node.py-1] [INFO] [1708962351.315713929] [joystick_control]: Parameter task: body\n",
      "[joystick_control_node.py-1] [INFO] [1708962352.410246516] [joystick_control]: Parameter task: body\n",
      "[joystick_control_node.py-1] [INFO] [1708962353.411334768] [joystick_control]: Parameter task: body\n",
      "[joystick_control_node.py-1] [INFO] [1708962354.414909973] [joystick_control]: Parameter task: body\n",
      "[joystick_control_node.py-1] [INFO] [1708962355.417132327] [joystick_control]: Parameter task: body\n",
      "[joystick_control_node.py-1] [INFO] [1708962356.512275738] [joystick_control]: Parameter task: body\n",
      "[joystick_control_node.py-1] [INFO] [1708962357.610265107] [joystick_control]: Parameter task: body\n",
      "[joystick_control_node.py-1] [INFO] [1708962358.612228284] [joystick_control]: Parameter task: body\n",
      "[joystick_control_node.py-1] [INFO] [1708962359.710994901] [joystick_control]: Parameter task: body\n",
      "[joystick_control_node.py-1] [INFO] [1708962360.711465447] [joystick_control]: Parameter task: body\n",
      "[joystick_control_node.py-1] [INFO] [1708962361.810106106] [joystick_control]: Parameter task: body\n",
      "[joystick_control_node.py-1] [INFO] [1708962362.810882556] [joystick_control]: Parameter task: body\n",
      "[joystick_control_node.py-1] [INFO] [1708962363.909638608] [joystick_control]: Parameter task: body\n",
      "[joystick_control_node.py-1] [INFO] [1708962364.911238924] [joystick_control]: Parameter task: body\n",
      "[joystick_control_node.py-1] [INFO] [1708962365.912981370] [joystick_control]: Parameter task: body\n",
      "[joystick_control_node.py-1] [INFO] [1708962367.028377963] [joystick_control]: Parameter task: body\n",
      "[joystick_control_node.py-1] [INFO] [1708962368.111442415] [joystick_control]: Parameter task: body\n",
      "[joystick_control_node.py-1] [INFO] [1708962369.212009324] [joystick_control]: Parameter task: body\n",
      "[joystick_control_node.py-1] [INFO] [1708962370.214104777] [joystick_control]: Parameter task: body\n",
      "[joystick_control_node.py-1] [INFO] [1708962371.310106361] [joystick_control]: Parameter task: body\n",
      "[joystick_control_node.py-1] [INFO] [1708962372.310539688] [joystick_control]: Parameter task: body\n",
      "[joystick_control_node.py-1] [INFO] [1708962373.315207264] [joystick_control]: Parameter task: body\n",
      "[joystick_control_node.py-1] [INFO] [1708962374.411638115] [joystick_control]: Parameter task: body\n",
      "[joystick_control_node.py-1] [INFO] [1708962375.425294802] [joystick_control]: Parameter task: body\n",
      "[joystick_control_node.py-1] [INFO] [1708962376.510505951] [joystick_control]: Parameter task: body\n",
      "[joystick_control_node.py-1] [INFO] [1708962377.511199862] [joystick_control]: Parameter task: body\n",
      "[joystick_control_node.py-1] [INFO] [1708962378.610867976] [joystick_control]: Parameter task: body\n",
      "[joystick_control_node.py-1] [INFO] [1708962379.610933156] [joystick_control]: Parameter task: body\n",
      "[joystick_control_node.py-1] [INFO] [1708962380.726265363] [joystick_control]: Parameter task: body\n",
      "[joystick_control_node.py-1] [INFO] [1708962381.811405836] [joystick_control]: Parameter task: body\n",
      "[joystick_control_node.py-1] [INFO] [1708962382.826263562] [joystick_control]: Parameter task: body\n",
      "[joystick_control_node.py-1] [INFO] [1708962383.911273676] [joystick_control]: Parameter task: body\n",
      "[joystick_control_node.py-1] [INFO] [1708962385.010167344] [joystick_control]: Parameter task: body\n",
      "[joystick_control_node.py-1] [INFO] [1708962386.010311630] [joystick_control]: Parameter task: body\n",
      "[joystick_control_node.py-1] [INFO] [1708962387.029424814] [joystick_control]: Parameter task: body\n",
      "[joystick_control_node.py-1] [INFO] [1708962388.110668323] [joystick_control]: Parameter task: body\n",
      "[joystick_control_node.py-1] [INFO] [1708962389.209951408] [joystick_control]: Parameter task: body\n",
      "[joystick_control_node.py-1] [INFO] [1708962390.227724888] [joystick_control]: Parameter task: body\n",
      "[joystick_control_node.py-1] [INFO] [1708962391.310096620] [joystick_control]: Parameter task: body\n",
      "[joystick_control_node.py-1] [INFO] [1708962392.310358023] [joystick_control]: Parameter task: body\n",
      "[joystick_control_node.py-1] [INFO] [1708962393.409733298] [joystick_control]: Parameter task: body\n",
      "[joystick_control_node.py-1] [INFO] [1708962394.410382549] [joystick_control]: Parameter task: body\n",
      "[joystick_control_node.py-1] [INFO] [1708962395.510621243] [joystick_control]: Parameter task: body\n",
      "[joystick_control_node.py-1] [INFO] [1708962396.510632789] [joystick_control]: Parameter task: body\n",
      "[joystick_control_node.py-1] [INFO] [1708962397.611829632] [joystick_control]: Parameter task: body\n",
      "[joystick_control_node.py-1] [INFO] [1708962398.611949405] [joystick_control]: Parameter task: body\n",
      "[joystick_control_node.py-1] [INFO] [1708962399.711241042] [joystick_control]: Parameter task: body\n",
      "[joystick_control_node.py-1] [INFO] [1708962400.809710371] [joystick_control]: Parameter task: body\n",
      "[joystick_control_node.py-1] [INFO] [1708962401.810886845] [joystick_control]: Parameter task: body\n",
      "[joystick_control_node.py-1] [INFO] [1708962402.911723799] [joystick_control]: Parameter task: body\n",
      "[joystick_control_node.py-1] [INFO] [1708962404.010203136] [joystick_control]: Parameter task: body\n",
      "[joystick_control_node.py-1] [INFO] [1708962405.010611453] [joystick_control]: Parameter task: body\n",
      "[joystick_control_node.py-1] [INFO] [1708962406.020548329] [joystick_control]: Parameter task: body\n",
      "[joystick_control_node.py-1] [INFO] [1708962407.111858319] [joystick_control]: Parameter task: body\n",
      "[joystick_control_node.py-1] [INFO] [1708962408.210078830] [joystick_control]: Parameter task: body\n",
      "^C\n",
      "[WARNING] [launch]: user interrupted with ctrl-c (SIGINT)\n",
      "[joy_node-2] [INFO] [1708962409.133637879] [rclcpp]: signal_handler(signum=2)\n",
      "[joystick_control_node.py-1] Traceback (most recent call last):\n",
      "[joystick_control_node.py-1]   File \"/home/andeshog/sim_ws/install/template_joystick_control/lib/template_joystick_control/joystick_control_node.py\", line 139, in <module>\n",
      "[joystick_control_node.py-1]     main()\n",
      "[joystick_control_node.py-1]   File \"/home/andeshog/sim_ws/install/template_joystick_control/lib/template_joystick_control/joystick_control_node.py\", line 133, in main\n",
      "[joystick_control_node.py-1]     rclpy.spin(JoystickForce())\n",
      "[joystick_control_node.py-1]   File \"/opt/ros/humble/local/lib/python3.10/dist-packages/rclpy/__init__.py\", line 222, in spin\n",
      "[joystick_control_node.py-1]     executor.spin_once()\n",
      "[joystick_control_node.py-1]   File \"/opt/ros/humble/local/lib/python3.10/dist-packages/rclpy/executors.py\", line 739, in spin_once\n",
      "[joystick_control_node.py-1]     self._spin_once_impl(timeout_sec)\n",
      "[joystick_control_node.py-1]   File \"/opt/ros/humble/local/lib/python3.10/dist-packages/rclpy/executors.py\", line 728, in _spin_once_impl\n",
      "[joystick_control_node.py-1]     handler, entity, node = self.wait_for_ready_callbacks(timeout_sec=timeout_sec)\n",
      "[joystick_control_node.py-1]   File \"/opt/ros/humble/local/lib/python3.10/dist-packages/rclpy/executors.py\", line 711, in wait_for_ready_callbacks\n",
      "[joystick_control_node.py-1]     return next(self._cb_iter)\n",
      "[joystick_control_node.py-1]   File \"/opt/ros/humble/local/lib/python3.10/dist-packages/rclpy/executors.py\", line 608, in _wait_for_ready_callbacks\n",
      "[joystick_control_node.py-1]     wait_set.wait(timeout_nsec)\n",
      "[joystick_control_node.py-1] KeyboardInterrupt\n"
     ]
    }
   ],
   "source": [
    "! ros2 launch template_joystick_control joystick.launch.py task:=body"
   ]
  },
  {
   "cell_type": "markdown",
   "metadata": {},
   "source": [
    "To run the basin relative controller, run the command below:\n",
    "\n",
    "```bash\n",
    "ros2 launch template_joystick_control joystick.launch.py task:=basin\n",
    "```"
   ]
  },
  {
   "cell_type": "code",
   "execution_count": null,
   "metadata": {
    "vscode": {
     "languageId": "shellscript"
    }
   },
   "outputs": [],
   "source": [
    "! ros2 launch template_joystick_control joystick.launch.py task:=basin"
   ]
  }
 ],
 "metadata": {
  "kernelspec": {
   "display_name": "Python 3",
   "language": "python",
   "name": "python3"
  },
  "language_info": {
   "codemirror_mode": {
    "name": "ipython",
    "version": 3
   },
   "file_extension": ".py",
   "mimetype": "text/x-python",
   "name": "python",
   "nbconvert_exporter": "python",
   "pygments_lexer": "ipython3",
   "version": "3.10.12"
  }
 },
 "nbformat": 4,
 "nbformat_minor": 2
}
