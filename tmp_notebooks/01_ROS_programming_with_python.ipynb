{
 "cells": [
  {
   "attachments": {},
   "cell_type": "markdown",
   "metadata": {},
   "source": [
    "# Crash Course to ROS 1 Python\n",
    "\n",
    "First create the [shebang line](https://en.wikipedia.org/wiki/Shebang_(Unix)) \n",
    "and flag the file as executable\n",
    "\n",
    "Shebang line:\n",
    "```python\n",
    "#!/usr/bin/env python3\n",
    "```\n",
    "\n",
    "and flag it as executable:\n",
    "```bash\n",
    "chmod +x {file_name}.py\n",
    "```"
   ]
  },
  {
   "cell_type": "code",
   "execution_count": 1,
   "metadata": {},
   "outputs": [],
   "source": [
    "#!/usr/bin/env python3"
   ]
  },
  {
   "attachments": {},
   "cell_type": "markdown",
   "metadata": {},
   "source": [
    "Now, import the packages we need. We of then need `numpy`, `scipy`, `rospy`, \n",
    "ros messages, and etc."
   ]
  },
  {
   "cell_type": "code",
   "execution_count": 2,
   "metadata": {},
   "outputs": [],
   "source": [
    "import rospy\n",
    "\n",
    "import numpy as np\n",
    "\n",
    "from std_msgs.msg import String"
   ]
  },
  {
   "attachments": {},
   "cell_type": "markdown",
   "metadata": {},
   "source": [
    "Note that if you import the ros messages as\n",
    "\n",
    "```python\n",
    "from std_msgs.msg import String\n",
    "```\n",
    "\n",
    "you can use the `String` object without needing to type module name, as follows:\n",
    "\n",
    "```python\n",
    "from std_msgs.msg import String\n",
    "\n",
    "string_data = String()\n",
    "```\n",
    "\n",
    "or you can import the module and specify the object you want to use within the\n",
    "module one by one, like so:\n",
    "\n",
    "```python\n",
    "import std_msgs.msg\n",
    "\n",
    "string_data = std_msgs.msg.String()\n",
    "```"
   ]
  },
  {
   "attachments": {},
   "cell_type": "markdown",
   "metadata": {},
   "source": [
    "Now that we include all the modules we needed, we can start writing the code.\n",
    "\n",
    "ROS programs are called ROS nodes. Every programming language in ROS ecosystem\n",
    "have their own API calls to do it. In python, we will use `rospy.init_node(...)`\n",
    "\n",
    "> Do not forget that you need to start the ROS core in another terminal with\n",
    "`roscore` command."
   ]
  },
  {
   "cell_type": "code",
   "execution_count": 3,
   "metadata": {},
   "outputs": [],
   "source": [
    "rospy.init_node(\"example_dumdum\")"
   ]
  },
  {
   "attachments": {},
   "cell_type": "markdown",
   "metadata": {},
   "source": [
    "ROS is essentially a middleware framework that allows multiple programs to \n",
    "communicate with each other. It also contains open-source packages that makes\n",
    "it easy to kick start and scale up the robotics projects.\n",
    "\n",
    "To communicate with multiple programs, ROS uses **messages** that streamed with\n",
    "**topics**. ROS **nodes** either **publishes** or **subscribes** to those\n",
    "messages.\n",
    "\n",
    "Lets create a subscriber first. This subscriber will only print whatever it\n",
    "heard."
   ]
  },
  {
   "cell_type": "code",
   "execution_count": 4,
   "metadata": {},
   "outputs": [],
   "source": [
    "# Implement the function itself\n",
    "def a_callback_function(msg):\n",
    "    print(\"I heard this (!): {0}\".format(msg.data))\n",
    "\n",
    "# Then register the callback \n",
    "the_subscriber = rospy.Subscriber(\"/string_data\", String, a_callback_function)"
   ]
  },
  {
   "attachments": {},
   "cell_type": "markdown",
   "metadata": {},
   "source": [
    "So, lets create a publisher to trigger the function `a_callback_function`."
   ]
  },
  {
   "cell_type": "code",
   "execution_count": 5,
   "metadata": {},
   "outputs": [],
   "source": [
    "the_publisher = rospy.Publisher(\"/string_data\", String, queue_size=1)"
   ]
  },
  {
   "attachments": {},
   "cell_type": "markdown",
   "metadata": {},
   "source": [
    "Let's just look at what topics are published by executing `rostopic list`."
   ]
  },
  {
   "cell_type": "code",
   "execution_count": 6,
   "metadata": {},
   "outputs": [
    {
     "name": "stdout",
     "output_type": "stream",
     "text": [
      "/rosout\n",
      "/rosout_agg\n",
      "/string_data\n"
     ]
    }
   ],
   "source": [
    "! rostopic list"
   ]
  },
  {
   "attachments": {},
   "cell_type": "markdown",
   "metadata": {},
   "source": [
    "Now we can call this by using `the_publisher` object."
   ]
  },
  {
   "cell_type": "code",
   "execution_count": 7,
   "metadata": {},
   "outputs": [
    {
     "name": "stdout",
     "output_type": "stream",
     "text": [
      "I heard this (!): This is the data, node the (.) to get the 'data' object.\n"
     ]
    }
   ],
   "source": [
    "string_object = String()\n",
    "\n",
    "string_object.data = \"This is the data, node the (.) to get the 'data' object.\"\n",
    "\n",
    "the_publisher.publish(string_object)"
   ]
  },
  {
   "attachments": {},
   "cell_type": "markdown",
   "metadata": {},
   "source": [
    "Note the dot notation that allowed us to access the member `data` of the \n",
    "`String` message. To understand what it really is, let's call `rosmsg show ...`\n",
    "command"
   ]
  },
  {
   "cell_type": "code",
   "execution_count": 8,
   "metadata": {},
   "outputs": [
    {
     "name": "stdout",
     "output_type": "stream",
     "text": [
      "string data\n",
      "\n"
     ]
    }
   ],
   "source": [
    "! rosmsg show std_msgs/String"
   ]
  },
  {
   "attachments": {},
   "cell_type": "markdown",
   "metadata": {},
   "source": [
    "Well, that looks easy. But, there are indeed more complex data types. One of the\n",
    "most used messages, namely, `nav_msgs/Odometry` message, is very complex and\n",
    "to access the members, use should use `.`s to access objects. "
   ]
  },
  {
   "cell_type": "code",
   "execution_count": 9,
   "metadata": {},
   "outputs": [
    {
     "name": "stdout",
     "output_type": "stream",
     "text": [
      "std_msgs/Header header\n",
      "  uint32 seq\n",
      "  time stamp\n",
      "  string frame_id\n",
      "string child_frame_id\n",
      "geometry_msgs/PoseWithCovariance pose\n",
      "  geometry_msgs/Pose pose\n",
      "    geometry_msgs/Point position\n",
      "      float64 x\n",
      "      float64 y\n",
      "      float64 z\n",
      "    geometry_msgs/Quaternion orientation\n",
      "      float64 x\n",
      "      float64 y\n",
      "      float64 z\n",
      "      float64 w\n",
      "  float64[36] covariance\n",
      "geometry_msgs/TwistWithCovariance twist\n",
      "  geometry_msgs/Twist twist\n",
      "    geometry_msgs/Vector3 linear\n",
      "      float64 x\n",
      "      float64 y\n",
      "      float64 z\n",
      "    geometry_msgs/Vector3 angular\n",
      "      float64 x\n",
      "      float64 y\n",
      "      float64 z\n",
      "  float64[36] covariance\n",
      "\n"
     ]
    }
   ],
   "source": [
    "! rosmsg show nav_msgs/Odometry"
   ]
  },
  {
   "attachments": {},
   "cell_type": "markdown",
   "metadata": {},
   "source": [
    "So, then, how do you access the position of the vehicle and form your own $\\eta$\n",
    "vector?\n",
    "\n",
    "$$\\eta = [x, y, \\psi]^\\top$$\n",
    "\n",
    "So, you do it as follows:"
   ]
  },
  {
   "cell_type": "code",
   "execution_count": 14,
   "metadata": {},
   "outputs": [],
   "source": [
    "import numpy as np\n",
    "from nav_msgs.msg import Odometry\n",
    "from scipy.spatial.transform import Rotation as R\n",
    "\n",
    "odom_message = Odometry()\n",
    "\n",
    "eta = np.zeros(3)\n",
    "\n",
    "# There is the X, Y\n",
    "eta[0] = odom_message.pose.pose.position.x\n",
    "eta[1] = odom_message.pose.pose.position.y\n",
    "\n",
    "# But, ROS odometry message, stores orientation as quaternions\n",
    "# So, we have to have fun to turn it into euler angles.\n",
    "# \n",
    "# Right now, per initialization, all the data points are `0`s. This is zero norm\n",
    "# quaternion. Therefore, it can not be transformed into euler. Let's hack it a\n",
    "# bit for the example's sake.\n",
    "odom_message.pose.pose.orientation.w = 1\n",
    "\n",
    "rotation = R.from_quat([\n",
    "    odom_message.pose.pose.orientation.x,\n",
    "    odom_message.pose.pose.orientation.y,\n",
    "    odom_message.pose.pose.orientation.z,\n",
    "    odom_message.pose.pose.orientation.w])\n",
    "\n",
    "eta[2] = rotation.as_euler(\"zyx\")[0]"
   ]
  }
 ],
 "metadata": {
  "kernelspec": {
   "display_name": "Python 3",
   "language": "python",
   "name": "python3"
  },
  "language_info": {
   "codemirror_mode": {
    "name": "ipython",
    "version": 3
   },
   "file_extension": ".py",
   "mimetype": "text/x-python",
   "name": "python",
   "nbconvert_exporter": "python",
   "pygments_lexer": "ipython3",
   "version": "3.8.10"
  },
  "orig_nbformat": 4,
  "vscode": {
   "interpreter": {
    "hash": "767d51c1340bd893661ea55ea3124f6de3c7a262a8b4abca0554b478b1e2ff90"
   }
  }
 },
 "nbformat": 4,
 "nbformat_minor": 2
}
