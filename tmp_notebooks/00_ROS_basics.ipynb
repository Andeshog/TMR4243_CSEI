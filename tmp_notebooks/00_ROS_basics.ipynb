{
 "cells": [
  {
   "attachments": {},
   "cell_type": "markdown",
   "metadata": {},
   "source": [
    "# ROS Basics\n",
    "\n",
    "## ROS Command line\n",
    "\n",
    "ROS command line tools are best understand through [this cheat sheet](https://mirror.umd.edu/roswiki/attachments/de/ROScheatsheet.pdf).\n",
    "Use this cheat sheet as much as possible.\n",
    "\n",
    "### Start the ROS master\n",
    "\n",
    "To start the ROS master, you type `roscore` on the terminal\n",
    "\n",
    "> On Ubuntu operating system, you can open the terminal by searching for it in\n",
    "the application center or pressing the key combination `CTRL`+`ALT`+`T`.\n",
    "\n",
    "```bash\n",
    "roscore\n",
    "```\n",
    "\n",
    "### List all the ROS topics\n",
    "\n",
    "The do ROS topic operations from the terminal, `rostopic` program is used.\n",
    "\n",
    "If you wish to list ROS topics\n",
    "\n",
    "```bash\n",
    "rostopic list\n",
    "```\n",
    "\n",
    "### Echo a topic\n",
    "\n",
    "For example, you can _echo_ data streamed through a _topic_ `/joy`, you can enter\n",
    "the following command.\n",
    "\n",
    "```bash\n",
    "rostopic echo /joy\n",
    "```"
   ]
  }
 ],
 "metadata": {
  "language_info": {
   "name": "python"
  },
  "orig_nbformat": 4
 },
 "nbformat": 4,
 "nbformat_minor": 2
}
